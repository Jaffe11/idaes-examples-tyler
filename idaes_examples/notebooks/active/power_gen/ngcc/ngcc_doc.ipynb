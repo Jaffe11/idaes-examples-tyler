{
  "cells": [
    {
      "cell_type": "code",
      "execution_count": 1,
      "metadata": {
        "tags": [
          "header",
          "hide-cell"
        ]
      },
      "outputs": [],
      "source": [
        "###############################################################################\n",
        "# The Institute for the Design of Advanced Energy Systems Integrated Platform\n",
        "# Framework (IDAES IP) was produced under the DOE Institute for the\n",
        "# Design of Advanced Energy Systems (IDAES).\n",
        "#\n",
        "# Copyright (c) 2018-2023 by the software owners: The Regents of the\n",
        "# University of California, through Lawrence Berkeley National Laboratory,\n",
        "# National Technology & Engineering Solutions of Sandia, LLC, Carnegie Mellon\n",
        "# University, West Virginia University Research Corporation, et al.\n",
        "# All rights reserved.  Please see the files COPYRIGHT.md and LICENSE.md\n",
        "# for full copyright and license information.\n",
        "###############################################################################"
      ]
    },
    {
      "attachments": {},
      "cell_type": "markdown",
      "metadata": {},
      "source": [
        "# NGCC Baseline and Turndown\n",
        "\n",
        "This notebook runs a series of net electric power outputs from 650 MW to 160 MW (about 100% to 25%) for an NGCC with 97% CO2 capture. The NGCC model is based on the NETL report \"Cost and Performance Baseline for Fossil Energy Plants Volume 1: Bituminous Coal and Natural Gas to Electricity.\" Sept 2019, Case B31B (https://www.netl.doe.gov/projects/files/CostAndPerformanceBaselineForFossilEnergyPlantsVol1BitumCoalAndNGtoElectBBRRev4-1_092419.pdf)."
      ]
    },
    {
      "attachments": {},
      "cell_type": "markdown",
      "metadata": {},
      "source": [
        "## Imports\n",
        "\n",
        "Import the modules that will be used."
      ]
    },
    {
      "cell_type": "code",
      "execution_count": 5,
      "metadata": {},
      "outputs": [],
      "source": [
        "import os\n",
        "import numpy as np\n",
        "import pandas as pd\n",
        "from IPython.core.display import SVG\n",
        "import pyomo.environ as pyo\n",
        "import idaes\n",
        "from idaes.core.solvers import use_idaes_solver_configuration_defaults\n",
        "import idaes.core.util.scaling as iscale\n",
        "import idaes.core.util as iutil\n",
        "from idaes_examples.mod.power_gen import ngcc\n",
        "import pytest\n",
        "import logging\n",
        "\n",
        "logging.getLogger(\"pyomo\").setLevel(logging.ERROR)"
      ]
    },
    {
      "attachments": {},
      "cell_type": "markdown",
      "metadata": {},
      "source": [
        "## Make Output Directories\n",
        "\n",
        "This notebook can produce a large number of output files.  To make it easier to manage, some subdirectories are used to organize output.  This ensures that the directories exist."
      ]
    },
    {
      "cell_type": "code",
      "execution_count": 6,
      "metadata": {},
      "outputs": [],
      "source": [
        "def make_directory(path):\n",
        "    \"\"\"Make a directory if it doesn't exist\"\"\"\n",
        "    try:\n",
        "        os.mkdir(path)\n",
        "    except FileExistsError:\n",
        "        pass\n",
        "\n",
        "\n",
        "make_directory(\"data\")\n",
        "make_directory(\"data_pfds\")\n",
        "make_directory(\"data_tabulated\")"
      ]
    },
    {
      "attachments": {},
      "cell_type": "markdown",
      "metadata": {},
      "source": [
        "## Global Solver Settings\n",
        "\n",
        "Use the IDAES configuration system for solver settings. These will apply to all Ipopt instances created, including the ones created in initialization methods."
      ]
    },
    {
      "cell_type": "code",
      "execution_count": 7,
      "metadata": {},
      "outputs": [],
      "source": [
        "use_idaes_solver_configuration_defaults()\n",
        "idaes.cfg.ipopt.options.nlp_scaling_method = \"user-scaling\"\n",
        "idaes.cfg.ipopt.options.linear_solver = \"ma57\"\n",
        "idaes.cfg.ipopt.options.OF_ma57_automatic_scaling = \"yes\"\n",
        "idaes.cfg.ipopt.options.ma57_pivtol = 1e-5\n",
        "idaes.cfg.ipopt.options.ma57_pivtolmax = 0.1\n",
        "solver = pyo.SolverFactory(\"ipopt\")"
      ]
    },
    {
      "attachments": {},
      "cell_type": "markdown",
      "metadata": {},
      "source": [
        "## Create the NGCC model\n",
        "\n",
        "Create the NGCC model and initialize it or read the saved initialization if available.  The base initialized NGCC model is configured to match the baseline report with 90% capture using a Cansolv system."
      ]
    },
    {
      "cell_type": "code",
      "execution_count": 9,
      "metadata": {},
      "outputs": [
        {
          "name": "stdout",
          "output_type": "stream",
          "text": [
            "2023-06-22 15:08:02 [WARNING] idaes.models.properties.general_helmholtz.helmholtz_state: Helmholtz EoS packages using Mixed phase representation ignore the 'has_phase_equilibrium' configuration argument. However, setting this to True can result in errors when constructing material balances due to only having a single phase (thus phase transfer terms cannot be constructed).\n",
            "2023-06-22 15:08:03 [WARNING] idaes.models.properties.general_helmholtz.helmholtz_state: Helmholtz EoS packages using Mixed phase representation ignore the 'has_phase_equilibrium' configuration argument. However, setting this to True can result in errors when constructing material balances due to only having a single phase (thus phase transfer terms cannot be constructed).\n",
            "2023-06-22 15:08:03 [WARNING] idaes.models.properties.general_helmholtz.helmholtz_state: Helmholtz EoS packages using Mixed phase representation ignore the 'has_phase_equilibrium' configuration argument. However, setting this to True can result in errors when constructing material balances due to only having a single phase (thus phase transfer terms cannot be constructed).\n",
            "2023-06-22 15:08:03 [WARNING] idaes.models.properties.general_helmholtz.helmholtz_state: Helmholtz EoS packages using Mixed phase representation ignore the 'has_phase_equilibrium' configuration argument. However, setting this to True can result in errors when constructing material balances due to only having a single phase (thus phase transfer terms cannot be constructed).\n",
            "2023-06-22 15:08:03 [WARNING] idaes.models.properties.general_helmholtz.helmholtz_state: Helmholtz EoS packages using Mixed phase representation ignore the 'has_phase_equilibrium' configuration argument. However, setting this to True can result in errors when constructing material balances due to only having a single phase (thus phase transfer terms cannot be constructed).\n",
            "2023-06-22 15:08:03 [WARNING] idaes.models.properties.general_helmholtz.helmholtz_state: Helmholtz EoS packages using Mixed phase representation ignore the 'has_phase_equilibrium' configuration argument. However, setting this to True can result in errors when constructing material balances due to only having a single phase (thus phase transfer terms cannot be constructed).\n",
            "2023-06-22 15:08:04 [WARNING] idaes.models.properties.general_helmholtz.helmholtz_state: Helmholtz EoS packages using Mixed phase representation ignore the 'has_phase_equilibrium' configuration argument. However, setting this to True can result in errors when constructing material balances due to only having a single phase (thus phase transfer terms cannot be constructed).\n",
            "2023-06-22 15:08:04 [WARNING] idaes.models.properties.general_helmholtz.helmholtz_state: Helmholtz EoS packages using Mixed phase representation ignore the 'has_phase_equilibrium' configuration argument. However, setting this to True can result in errors when constructing material balances due to only having a single phase (thus phase transfer terms cannot be constructed).\n",
            "2023-06-22 15:08:04 [WARNING] idaes.models.properties.general_helmholtz.helmholtz_state: Helmholtz EoS packages using Mixed phase representation ignore the 'has_phase_equilibrium' configuration argument. However, setting this to True can result in errors when constructing material balances due to only having a single phase (thus phase transfer terms cannot be constructed).\n",
            "2023-06-22 15:08:04 [WARNING] idaes.models.properties.general_helmholtz.helmholtz_state: Helmholtz EoS packages using Mixed phase representation ignore the 'has_phase_equilibrium' configuration argument. However, setting this to True can result in errors when constructing material balances due to only having a single phase (thus phase transfer terms cannot be constructed).\n",
            "ERROR: Constructing component 'fs.hrsg.pump_ip.control_volume.properties_in'\n",
            "from data=None failed: KeyboardInterrupt:\n",
            "ERROR: Constructing component 'fs.hrsg.pump_ip' from data=None failed:\n",
            "KeyboardInterrupt:\n",
            "ERROR: Constructing component 'fs.hrsg' from data=None failed:\n",
            "KeyboardInterrupt:\n",
            "ERROR: Constructing component 'fs' from data=None failed: KeyboardInterrupt:\n"
          ]
        },
        {
          "ename": "KeyboardInterrupt",
          "evalue": "",
          "output_type": "error",
          "traceback": [
            "\u001b[1;31m---------------------------------------------------------------------------\u001b[0m",
            "\u001b[1;31mKeyboardInterrupt\u001b[0m                         Traceback (most recent call last)",
            "Cell \u001b[1;32mIn[9], line 2\u001b[0m\n\u001b[0;32m      1\u001b[0m \u001b[39m#m = pyo.ConcreteModel()\u001b[39;00m\n\u001b[1;32m----> 2\u001b[0m m\u001b[39m.\u001b[39;49mfs \u001b[39m=\u001b[39m ngcc\u001b[39m.\u001b[39mNgccFlowsheet(dynamic\u001b[39m=\u001b[39m\u001b[39mFalse\u001b[39;00m)\n\u001b[0;32m      3\u001b[0m iscale\u001b[39m.\u001b[39mcalculate_scaling_factors(m)\n\u001b[0;32m      7\u001b[0m \u001b[39m# m.fs.initialize(\u001b[39;00m\n\u001b[0;32m      8\u001b[0m \u001b[39m#     load_from=\"ngcc_init.json.gz\",\u001b[39;00m\n\u001b[0;32m      9\u001b[0m \u001b[39m#     save_to=\"ngcc_init.json.gz\",\u001b[39;00m\n\u001b[0;32m     10\u001b[0m \u001b[39m# )\u001b[39;00m\n\u001b[0;32m     11\u001b[0m \u001b[39m# res = solver.solve(m, tee=True)\u001b[39;00m\n",
            "File \u001b[1;32mc:\\Users\\Tyler\\anaconda3\\envs\\idaes-pse-tyler\\Lib\\site-packages\\pyomo\\core\\base\\block.py:610\u001b[0m, in \u001b[0;36m_BlockData.__setattr__\u001b[1;34m(self, name, val)\u001b[0m\n\u001b[0;32m    601\u001b[0m     logger\u001b[39m.\u001b[39mwarning(\n\u001b[0;32m    602\u001b[0m         \u001b[39m\"\u001b[39m\u001b[39mImplicitly replacing the Component attribute \u001b[39m\u001b[39m\"\u001b[39m\n\u001b[0;32m    603\u001b[0m         \u001b[39m\"\u001b[39m\u001b[39m%s\u001b[39;00m\u001b[39m (type=\u001b[39m\u001b[39m%s\u001b[39;00m\u001b[39m) on block \u001b[39m\u001b[39m%s\u001b[39;00m\u001b[39m with a new Component (type=\u001b[39m\u001b[39m%s\u001b[39;00m\u001b[39m).\u001b[39m\u001b[39m\"\u001b[39m\n\u001b[1;32m   (...)\u001b[0m\n\u001b[0;32m    607\u001b[0m         \u001b[39m%\u001b[39m (name, \u001b[39mtype\u001b[39m(\u001b[39mself\u001b[39m\u001b[39m.\u001b[39mcomponent(name)), \u001b[39mself\u001b[39m\u001b[39m.\u001b[39mname, \u001b[39mtype\u001b[39m(val))\n\u001b[0;32m    608\u001b[0m     )\n\u001b[0;32m    609\u001b[0m     \u001b[39mself\u001b[39m\u001b[39m.\u001b[39mdel_component(name)\n\u001b[1;32m--> 610\u001b[0m     \u001b[39mself\u001b[39;49m\u001b[39m.\u001b[39;49madd_component(name, val)\n\u001b[0;32m    611\u001b[0m \u001b[39melse\u001b[39;00m:\n\u001b[0;32m    612\u001b[0m     \u001b[39m#\u001b[39;00m\n\u001b[0;32m    613\u001b[0m     \u001b[39m# The incoming value is not a component, so we set the\u001b[39;00m\n\u001b[1;32m   (...)\u001b[0m\n\u001b[0;32m    620\u001b[0m     \u001b[39m# generated while setting the value.\u001b[39;00m\n\u001b[0;32m    621\u001b[0m     \u001b[39m#\u001b[39;00m\n\u001b[0;32m    622\u001b[0m     \u001b[39mtry\u001b[39;00m:\n",
            "File \u001b[1;32mc:\\Users\\Tyler\\anaconda3\\envs\\idaes-pse-tyler\\Lib\\site-packages\\pyomo\\core\\base\\block.py:1185\u001b[0m, in \u001b[0;36m_BlockData.add_component\u001b[1;34m(self, name, val)\u001b[0m\n\u001b[0;32m   1177\u001b[0m     logger\u001b[39m.\u001b[39mdebug(\n\u001b[0;32m   1178\u001b[0m         \u001b[39m\"\u001b[39m\u001b[39mConstructing \u001b[39m\u001b[39m%s\u001b[39;00m\u001b[39m \u001b[39m\u001b[39m'\u001b[39m\u001b[39m%s\u001b[39;00m\u001b[39m'\u001b[39m\u001b[39m on \u001b[39m\u001b[39m%s\u001b[39;00m\u001b[39m from data=\u001b[39m\u001b[39m%s\u001b[39;00m\u001b[39m\"\u001b[39m,\n\u001b[0;32m   1179\u001b[0m         val\u001b[39m.\u001b[39m\u001b[39m__class__\u001b[39m\u001b[39m.\u001b[39m\u001b[39m__name__\u001b[39m,\n\u001b[1;32m   (...)\u001b[0m\n\u001b[0;32m   1182\u001b[0m         \u001b[39mstr\u001b[39m(data),\n\u001b[0;32m   1183\u001b[0m     )\n\u001b[0;32m   1184\u001b[0m \u001b[39mtry\u001b[39;00m:\n\u001b[1;32m-> 1185\u001b[0m     val\u001b[39m.\u001b[39;49mconstruct(data)\n\u001b[0;32m   1186\u001b[0m \u001b[39mexcept\u001b[39;00m:\n\u001b[0;32m   1187\u001b[0m     err \u001b[39m=\u001b[39m sys\u001b[39m.\u001b[39mexc_info()[\u001b[39m1\u001b[39m]\n",
            "File \u001b[1;32mc:\\Users\\Tyler\\anaconda3\\envs\\idaes-pse-tyler\\Lib\\site-packages\\pyomo\\core\\base\\block.py:2191\u001b[0m, in \u001b[0;36mBlock.construct\u001b[1;34m(self, data)\u001b[0m\n\u001b[0;32m   2189\u001b[0m                     obj\u001b[39m.\u001b[39mconstruct(data\u001b[39m.\u001b[39mget(name, \u001b[39mNone\u001b[39;00m))\n\u001b[0;32m   2190\u001b[0m         \u001b[39m# Trigger the (normal) initialization of the block\u001b[39;00m\n\u001b[1;32m-> 2191\u001b[0m         \u001b[39mself\u001b[39;49m\u001b[39m.\u001b[39;49m_getitem_when_not_present(_idx)\n\u001b[0;32m   2192\u001b[0m \u001b[39mfinally\u001b[39;00m:\n\u001b[0;32m   2193\u001b[0m     \u001b[39m# We must allow that id(self) may no longer be in\u001b[39;00m\n\u001b[0;32m   2194\u001b[0m     \u001b[39m# _BlockConstruction.data, as _getitem_when_not_present will\u001b[39;00m\n\u001b[0;32m   2195\u001b[0m     \u001b[39m# have already removed the entry for scalar blocks (as the\u001b[39;00m\n\u001b[0;32m   2196\u001b[0m     \u001b[39m# BlockData and the Block component are the same object)\u001b[39;00m\n\u001b[0;32m   2197\u001b[0m     \u001b[39mif\u001b[39;00m data \u001b[39mis\u001b[39;00m \u001b[39mnot\u001b[39;00m \u001b[39mNone\u001b[39;00m:\n",
            "File \u001b[1;32mc:\\Users\\Tyler\\anaconda3\\envs\\idaes-pse-tyler\\Lib\\site-packages\\pyomo\\core\\base\\block.py:2111\u001b[0m, in \u001b[0;36mBlock._getitem_when_not_present\u001b[1;34m(self, idx)\u001b[0m\n\u001b[0;32m   2108\u001b[0m     data \u001b[39m=\u001b[39m \u001b[39mNone\u001b[39;00m\n\u001b[0;32m   2110\u001b[0m \u001b[39mtry\u001b[39;00m:\n\u001b[1;32m-> 2111\u001b[0m     obj \u001b[39m=\u001b[39m \u001b[39mself\u001b[39;49m\u001b[39m.\u001b[39;49m_rule(_block, idx)\n\u001b[0;32m   2112\u001b[0m     \u001b[39m# If the user returns a block, transfer over everything\u001b[39;00m\n\u001b[0;32m   2113\u001b[0m     \u001b[39m# they defined into the empty one we created.  We do\u001b[39;00m\n\u001b[0;32m   2114\u001b[0m     \u001b[39m# this inside the try block so that any abstract\u001b[39;00m\n\u001b[0;32m   2115\u001b[0m     \u001b[39m# components declared by the rule have the opportunity\u001b[39;00m\n\u001b[0;32m   2116\u001b[0m     \u001b[39m# to be initialized with data from\u001b[39;00m\n\u001b[0;32m   2117\u001b[0m     \u001b[39m# _BlockConstruction.data as they are transferred over.\u001b[39;00m\n\u001b[0;32m   2118\u001b[0m     \u001b[39mif\u001b[39;00m obj \u001b[39mis\u001b[39;00m \u001b[39mnot\u001b[39;00m _block \u001b[39mand\u001b[39;00m \u001b[39misinstance\u001b[39m(obj, _BlockData):\n",
            "File \u001b[1;32mc:\\Users\\Tyler\\anaconda3\\envs\\idaes-pse-tyler\\Lib\\site-packages\\pyomo\\core\\base\\initializer.py:313\u001b[0m, in \u001b[0;36mIndexedCallInitializer.__call__\u001b[1;34m(self, parent, idx)\u001b[0m\n\u001b[0;32m    311\u001b[0m     \u001b[39mreturn\u001b[39;00m \u001b[39mself\u001b[39m\u001b[39m.\u001b[39m_fcn(parent, \u001b[39m*\u001b[39midx)\n\u001b[0;32m    312\u001b[0m \u001b[39melse\u001b[39;00m:\n\u001b[1;32m--> 313\u001b[0m     \u001b[39mreturn\u001b[39;00m \u001b[39mself\u001b[39;49m\u001b[39m.\u001b[39;49m_fcn(parent, idx)\n",
            "File \u001b[1;32mc:\\Users\\Tyler\\anaconda3\\envs\\idaes-pse-tyler\\Lib\\site-packages\\idaes\\core\\base\\process_block.py:41\u001b[0m, in \u001b[0;36m_rule_default\u001b[1;34m(b, *args)\u001b[0m\n\u001b[0;32m     35\u001b[0m \u001b[39m\u001b[39m\u001b[39m\"\"\"\u001b[39;00m\n\u001b[0;32m     36\u001b[0m \u001b[39mDefault rule for ProcessBlock, which calls build(). A different rule can\u001b[39;00m\n\u001b[0;32m     37\u001b[0m \u001b[39mbe specified to add additional build steps, or to not call build at all\u001b[39;00m\n\u001b[0;32m     38\u001b[0m \u001b[39musing the normal rule argument to ProcessBlock init.\u001b[39;00m\n\u001b[0;32m     39\u001b[0m \u001b[39m\"\"\"\u001b[39;00m\n\u001b[0;32m     40\u001b[0m \u001b[39mtry\u001b[39;00m:\n\u001b[1;32m---> 41\u001b[0m     b\u001b[39m.\u001b[39;49mbuild()\n\u001b[0;32m     42\u001b[0m \u001b[39mexcept\u001b[39;00m \u001b[39mException\u001b[39;00m:\n\u001b[0;32m     43\u001b[0m     logging\u001b[39m.\u001b[39mgetLogger(\u001b[39m__name__\u001b[39m)\u001b[39m.\u001b[39mexception(\u001b[39mf\u001b[39m\u001b[39m\"\u001b[39m\u001b[39mFailure in build: \u001b[39m\u001b[39m{\u001b[39;00mb\u001b[39m}\u001b[39;00m\u001b[39m\"\u001b[39m)\n",
            "File \u001b[1;32m~\\idaes-examples-tyler\\idaes_examples\\mod\\power_gen\\ngcc.py:41\u001b[0m, in \u001b[0;36mNgccFlowsheetData.build\u001b[1;34m(self)\u001b[0m\n\u001b[0;32m     39\u001b[0m \u001b[39mdef\u001b[39;00m \u001b[39mbuild\u001b[39m(\u001b[39mself\u001b[39m):\n\u001b[0;32m     40\u001b[0m     \u001b[39msuper\u001b[39m()\u001b[39m.\u001b[39mbuild()\n\u001b[1;32m---> 41\u001b[0m     \u001b[39mself\u001b[39;49m\u001b[39m.\u001b[39;49m_add_flowsheets()\n\u001b[0;32m     42\u001b[0m     \u001b[39mself\u001b[39m\u001b[39m.\u001b[39m_add_units()\n\u001b[0;32m     43\u001b[0m     \u001b[39mself\u001b[39m\u001b[39m.\u001b[39m_add_arcs()\n",
            "File \u001b[1;32m~\\idaes-examples-tyler\\idaes_examples\\mod\\power_gen\\ngcc.py:156\u001b[0m, in \u001b[0;36mNgccFlowsheetData._add_flowsheets\u001b[1;34m(self)\u001b[0m\n\u001b[0;32m    150\u001b[0m \u001b[39mdef\u001b[39;00m \u001b[39m_add_flowsheets\u001b[39m(\u001b[39mself\u001b[39m):\n\u001b[0;32m    151\u001b[0m     \u001b[39mself\u001b[39m\u001b[39m.\u001b[39mgt \u001b[39m=\u001b[39m gas_turbine\u001b[39m.\u001b[39mGasTurbineFlowsheet(\n\u001b[0;32m    152\u001b[0m         dynamic\u001b[39m=\u001b[39m\u001b[39mself\u001b[39m\u001b[39m.\u001b[39mconfig\u001b[39m.\u001b[39mdynamic,\n\u001b[0;32m    153\u001b[0m         time\u001b[39m=\u001b[39m\u001b[39mself\u001b[39m\u001b[39m.\u001b[39mtime,\n\u001b[0;32m    154\u001b[0m         time_units\u001b[39m=\u001b[39m\u001b[39mself\u001b[39m\u001b[39m.\u001b[39mconfig\u001b[39m.\u001b[39mtime_units,\n\u001b[0;32m    155\u001b[0m     )\n\u001b[1;32m--> 156\u001b[0m     \u001b[39mself\u001b[39;49m\u001b[39m.\u001b[39;49mhrsg \u001b[39m=\u001b[39m hrsg\u001b[39m.\u001b[39mHrsgFlowsheet(\n\u001b[0;32m    157\u001b[0m         dynamic\u001b[39m=\u001b[39m\u001b[39mself\u001b[39m\u001b[39m.\u001b[39mconfig\u001b[39m.\u001b[39mdynamic,\n\u001b[0;32m    158\u001b[0m         time\u001b[39m=\u001b[39m\u001b[39mself\u001b[39m\u001b[39m.\u001b[39mtime,\n\u001b[0;32m    159\u001b[0m         time_units\u001b[39m=\u001b[39m\u001b[39mself\u001b[39m\u001b[39m.\u001b[39mconfig\u001b[39m.\u001b[39mtime_units,\n\u001b[0;32m    160\u001b[0m     )\n\u001b[0;32m    161\u001b[0m     \u001b[39mself\u001b[39m\u001b[39m.\u001b[39mst \u001b[39m=\u001b[39m steam_turbine\u001b[39m.\u001b[39mSteamTurbineFlowsheet(\n\u001b[0;32m    162\u001b[0m         dynamic\u001b[39m=\u001b[39m\u001b[39mself\u001b[39m\u001b[39m.\u001b[39mconfig\u001b[39m.\u001b[39mdynamic,\n\u001b[0;32m    163\u001b[0m         time\u001b[39m=\u001b[39m\u001b[39mself\u001b[39m\u001b[39m.\u001b[39mtime,\n\u001b[0;32m    164\u001b[0m         time_units\u001b[39m=\u001b[39m\u001b[39mself\u001b[39m\u001b[39m.\u001b[39mconfig\u001b[39m.\u001b[39mtime_units,\n\u001b[0;32m    165\u001b[0m     )\n",
            "File \u001b[1;32mc:\\Users\\Tyler\\anaconda3\\envs\\idaes-pse-tyler\\Lib\\site-packages\\pyomo\\core\\base\\block.py:580\u001b[0m, in \u001b[0;36m_BlockData.__setattr__\u001b[1;34m(self, name, val)\u001b[0m\n\u001b[0;32m    575\u001b[0m \u001b[39mif\u001b[39;00m name \u001b[39mnot\u001b[39;00m \u001b[39min\u001b[39;00m \u001b[39mself\u001b[39m\u001b[39m.\u001b[39m\u001b[39m__dict__\u001b[39m:\n\u001b[0;32m    576\u001b[0m     \u001b[39mif\u001b[39;00m \u001b[39misinstance\u001b[39m(val, Component):\n\u001b[0;32m    577\u001b[0m         \u001b[39m#\u001b[39;00m\n\u001b[0;32m    578\u001b[0m         \u001b[39m# Pyomo components are added with the add_component method.\u001b[39;00m\n\u001b[0;32m    579\u001b[0m         \u001b[39m#\u001b[39;00m\n\u001b[1;32m--> 580\u001b[0m         \u001b[39mself\u001b[39;49m\u001b[39m.\u001b[39;49madd_component(name, val)\n\u001b[0;32m    581\u001b[0m     \u001b[39melse\u001b[39;00m:\n\u001b[0;32m    582\u001b[0m         \u001b[39m#\u001b[39;00m\n\u001b[0;32m    583\u001b[0m         \u001b[39m# Other Python objects are added with the standard __setattr__\u001b[39;00m\n\u001b[0;32m    584\u001b[0m         \u001b[39m# method.\u001b[39;00m\n\u001b[0;32m    585\u001b[0m         \u001b[39m#\u001b[39;00m\n\u001b[0;32m    586\u001b[0m         \u001b[39msuper\u001b[39m(_BlockData, \u001b[39mself\u001b[39m)\u001b[39m.\u001b[39m\u001b[39m__setattr__\u001b[39m(name, val)\n",
            "File \u001b[1;32mc:\\Users\\Tyler\\anaconda3\\envs\\idaes-pse-tyler\\Lib\\site-packages\\pyomo\\core\\base\\block.py:1185\u001b[0m, in \u001b[0;36m_BlockData.add_component\u001b[1;34m(self, name, val)\u001b[0m\n\u001b[0;32m   1177\u001b[0m     logger\u001b[39m.\u001b[39mdebug(\n\u001b[0;32m   1178\u001b[0m         \u001b[39m\"\u001b[39m\u001b[39mConstructing \u001b[39m\u001b[39m%s\u001b[39;00m\u001b[39m \u001b[39m\u001b[39m'\u001b[39m\u001b[39m%s\u001b[39;00m\u001b[39m'\u001b[39m\u001b[39m on \u001b[39m\u001b[39m%s\u001b[39;00m\u001b[39m from data=\u001b[39m\u001b[39m%s\u001b[39;00m\u001b[39m\"\u001b[39m,\n\u001b[0;32m   1179\u001b[0m         val\u001b[39m.\u001b[39m\u001b[39m__class__\u001b[39m\u001b[39m.\u001b[39m\u001b[39m__name__\u001b[39m,\n\u001b[1;32m   (...)\u001b[0m\n\u001b[0;32m   1182\u001b[0m         \u001b[39mstr\u001b[39m(data),\n\u001b[0;32m   1183\u001b[0m     )\n\u001b[0;32m   1184\u001b[0m \u001b[39mtry\u001b[39;00m:\n\u001b[1;32m-> 1185\u001b[0m     val\u001b[39m.\u001b[39;49mconstruct(data)\n\u001b[0;32m   1186\u001b[0m \u001b[39mexcept\u001b[39;00m:\n\u001b[0;32m   1187\u001b[0m     err \u001b[39m=\u001b[39m sys\u001b[39m.\u001b[39mexc_info()[\u001b[39m1\u001b[39m]\n",
            "File \u001b[1;32mc:\\Users\\Tyler\\anaconda3\\envs\\idaes-pse-tyler\\Lib\\site-packages\\pyomo\\core\\base\\block.py:2191\u001b[0m, in \u001b[0;36mBlock.construct\u001b[1;34m(self, data)\u001b[0m\n\u001b[0;32m   2189\u001b[0m                     obj\u001b[39m.\u001b[39mconstruct(data\u001b[39m.\u001b[39mget(name, \u001b[39mNone\u001b[39;00m))\n\u001b[0;32m   2190\u001b[0m         \u001b[39m# Trigger the (normal) initialization of the block\u001b[39;00m\n\u001b[1;32m-> 2191\u001b[0m         \u001b[39mself\u001b[39;49m\u001b[39m.\u001b[39;49m_getitem_when_not_present(_idx)\n\u001b[0;32m   2192\u001b[0m \u001b[39mfinally\u001b[39;00m:\n\u001b[0;32m   2193\u001b[0m     \u001b[39m# We must allow that id(self) may no longer be in\u001b[39;00m\n\u001b[0;32m   2194\u001b[0m     \u001b[39m# _BlockConstruction.data, as _getitem_when_not_present will\u001b[39;00m\n\u001b[0;32m   2195\u001b[0m     \u001b[39m# have already removed the entry for scalar blocks (as the\u001b[39;00m\n\u001b[0;32m   2196\u001b[0m     \u001b[39m# BlockData and the Block component are the same object)\u001b[39;00m\n\u001b[0;32m   2197\u001b[0m     \u001b[39mif\u001b[39;00m data \u001b[39mis\u001b[39;00m \u001b[39mnot\u001b[39;00m \u001b[39mNone\u001b[39;00m:\n",
            "File \u001b[1;32mc:\\Users\\Tyler\\anaconda3\\envs\\idaes-pse-tyler\\Lib\\site-packages\\pyomo\\core\\base\\block.py:2111\u001b[0m, in \u001b[0;36mBlock._getitem_when_not_present\u001b[1;34m(self, idx)\u001b[0m\n\u001b[0;32m   2108\u001b[0m     data \u001b[39m=\u001b[39m \u001b[39mNone\u001b[39;00m\n\u001b[0;32m   2110\u001b[0m \u001b[39mtry\u001b[39;00m:\n\u001b[1;32m-> 2111\u001b[0m     obj \u001b[39m=\u001b[39m \u001b[39mself\u001b[39;49m\u001b[39m.\u001b[39;49m_rule(_block, idx)\n\u001b[0;32m   2112\u001b[0m     \u001b[39m# If the user returns a block, transfer over everything\u001b[39;00m\n\u001b[0;32m   2113\u001b[0m     \u001b[39m# they defined into the empty one we created.  We do\u001b[39;00m\n\u001b[0;32m   2114\u001b[0m     \u001b[39m# this inside the try block so that any abstract\u001b[39;00m\n\u001b[0;32m   2115\u001b[0m     \u001b[39m# components declared by the rule have the opportunity\u001b[39;00m\n\u001b[0;32m   2116\u001b[0m     \u001b[39m# to be initialized with data from\u001b[39;00m\n\u001b[0;32m   2117\u001b[0m     \u001b[39m# _BlockConstruction.data as they are transferred over.\u001b[39;00m\n\u001b[0;32m   2118\u001b[0m     \u001b[39mif\u001b[39;00m obj \u001b[39mis\u001b[39;00m \u001b[39mnot\u001b[39;00m _block \u001b[39mand\u001b[39;00m \u001b[39misinstance\u001b[39m(obj, _BlockData):\n",
            "File \u001b[1;32mc:\\Users\\Tyler\\anaconda3\\envs\\idaes-pse-tyler\\Lib\\site-packages\\pyomo\\core\\base\\initializer.py:313\u001b[0m, in \u001b[0;36mIndexedCallInitializer.__call__\u001b[1;34m(self, parent, idx)\u001b[0m\n\u001b[0;32m    311\u001b[0m     \u001b[39mreturn\u001b[39;00m \u001b[39mself\u001b[39m\u001b[39m.\u001b[39m_fcn(parent, \u001b[39m*\u001b[39midx)\n\u001b[0;32m    312\u001b[0m \u001b[39melse\u001b[39;00m:\n\u001b[1;32m--> 313\u001b[0m     \u001b[39mreturn\u001b[39;00m \u001b[39mself\u001b[39;49m\u001b[39m.\u001b[39;49m_fcn(parent, idx)\n",
            "File \u001b[1;32mc:\\Users\\Tyler\\anaconda3\\envs\\idaes-pse-tyler\\Lib\\site-packages\\idaes\\core\\base\\process_block.py:41\u001b[0m, in \u001b[0;36m_rule_default\u001b[1;34m(b, *args)\u001b[0m\n\u001b[0;32m     35\u001b[0m \u001b[39m\u001b[39m\u001b[39m\"\"\"\u001b[39;00m\n\u001b[0;32m     36\u001b[0m \u001b[39mDefault rule for ProcessBlock, which calls build(). A different rule can\u001b[39;00m\n\u001b[0;32m     37\u001b[0m \u001b[39mbe specified to add additional build steps, or to not call build at all\u001b[39;00m\n\u001b[0;32m     38\u001b[0m \u001b[39musing the normal rule argument to ProcessBlock init.\u001b[39;00m\n\u001b[0;32m     39\u001b[0m \u001b[39m\"\"\"\u001b[39;00m\n\u001b[0;32m     40\u001b[0m \u001b[39mtry\u001b[39;00m:\n\u001b[1;32m---> 41\u001b[0m     b\u001b[39m.\u001b[39;49mbuild()\n\u001b[0;32m     42\u001b[0m \u001b[39mexcept\u001b[39;00m \u001b[39mException\u001b[39;00m:\n\u001b[0;32m     43\u001b[0m     logging\u001b[39m.\u001b[39mgetLogger(\u001b[39m__name__\u001b[39m)\u001b[39m.\u001b[39mexception(\u001b[39mf\u001b[39m\u001b[39m\"\u001b[39m\u001b[39mFailure in build: \u001b[39m\u001b[39m{\u001b[39;00mb\u001b[39m}\u001b[39;00m\u001b[39m\"\u001b[39m)\n",
            "File \u001b[1;32m~\\idaes-examples-tyler\\idaes_examples\\mod\\power_gen\\hrsg.py:74\u001b[0m, in \u001b[0;36mHrsgFlowsheetData.build\u001b[1;34m(self)\u001b[0m\n\u001b[0;32m     72\u001b[0m \u001b[39msuper\u001b[39m()\u001b[39m.\u001b[39mbuild()\n\u001b[0;32m     73\u001b[0m \u001b[39mself\u001b[39m\u001b[39m.\u001b[39m_add_properties()\n\u001b[1;32m---> 74\u001b[0m \u001b[39mself\u001b[39;49m\u001b[39m.\u001b[39;49m_add_unit_models()\n\u001b[0;32m     75\u001b[0m \u001b[39mself\u001b[39m\u001b[39m.\u001b[39m_add_flowsheet_constraints()\n\u001b[0;32m     76\u001b[0m \u001b[39mself\u001b[39m\u001b[39m.\u001b[39m_add_arcs()\n",
            "File \u001b[1;32m~\\idaes-examples-tyler\\idaes_examples\\mod\\power_gen\\hrsg.py:170\u001b[0m, in \u001b[0;36mHrsgFlowsheetData._add_unit_models\u001b[1;34m(self)\u001b[0m\n\u001b[0;32m    150\u001b[0m \u001b[39mself\u001b[39m\u001b[39m.\u001b[39msh_lp \u001b[39m=\u001b[39m BoilerHeatExchanger(\n\u001b[0;32m    151\u001b[0m     doc\u001b[39m=\u001b[39m\u001b[39m\"\u001b[39m\u001b[39mLP superheater\u001b[39m\u001b[39m\"\u001b[39m,\n\u001b[0;32m    152\u001b[0m     delta_temperature_callback\u001b[39m=\u001b[39mdelta_temp_cb,\n\u001b[1;32m   (...)\u001b[0m\n\u001b[0;32m    163\u001b[0m     has_radiation\u001b[39m=\u001b[39m\u001b[39mFalse\u001b[39;00m,\n\u001b[0;32m    164\u001b[0m )\n\u001b[0;32m    165\u001b[0m \u001b[39mself\u001b[39m\u001b[39m.\u001b[39msplitter1 \u001b[39m=\u001b[39m HelmSplitter(\n\u001b[0;32m    166\u001b[0m     doc\u001b[39m=\u001b[39m\u001b[39m\"\u001b[39m\u001b[39mLP liquid split to IP and HP pumps\u001b[39m\u001b[39m\"\u001b[39m,\n\u001b[0;32m    167\u001b[0m     property_package\u001b[39m=\u001b[39mprop_water,\n\u001b[0;32m    168\u001b[0m     outlet_list\u001b[39m=\u001b[39m[\u001b[39m\"\u001b[39m\u001b[39mtoIP\u001b[39m\u001b[39m\"\u001b[39m, \u001b[39m\"\u001b[39m\u001b[39mtoHP\u001b[39m\u001b[39m\"\u001b[39m],\n\u001b[0;32m    169\u001b[0m )\n\u001b[1;32m--> 170\u001b[0m \u001b[39mself\u001b[39;49m\u001b[39m.\u001b[39;49mpump_ip \u001b[39m=\u001b[39m WaterPump(\n\u001b[0;32m    171\u001b[0m     doc\u001b[39m=\u001b[39m\u001b[39m\"\u001b[39m\u001b[39mIntermediate pressure pump\u001b[39m\u001b[39m\"\u001b[39m,\n\u001b[0;32m    172\u001b[0m     property_package\u001b[39m=\u001b[39mprop_water,\n\u001b[0;32m    173\u001b[0m )\n\u001b[0;32m    174\u001b[0m \u001b[39mself\u001b[39m\u001b[39m.\u001b[39mpump_hp \u001b[39m=\u001b[39m WaterPump(\n\u001b[0;32m    175\u001b[0m     doc\u001b[39m=\u001b[39m\u001b[39m\"\u001b[39m\u001b[39mHigh pressure pump\u001b[39m\u001b[39m\"\u001b[39m,\n\u001b[0;32m    176\u001b[0m     property_package\u001b[39m=\u001b[39mprop_water,\n\u001b[0;32m    177\u001b[0m )\n\u001b[0;32m    178\u001b[0m \u001b[39m######### IP Section ###########\u001b[39;00m\n",
            "File \u001b[1;32mc:\\Users\\Tyler\\anaconda3\\envs\\idaes-pse-tyler\\Lib\\site-packages\\pyomo\\core\\base\\block.py:580\u001b[0m, in \u001b[0;36m_BlockData.__setattr__\u001b[1;34m(self, name, val)\u001b[0m\n\u001b[0;32m    575\u001b[0m \u001b[39mif\u001b[39;00m name \u001b[39mnot\u001b[39;00m \u001b[39min\u001b[39;00m \u001b[39mself\u001b[39m\u001b[39m.\u001b[39m\u001b[39m__dict__\u001b[39m:\n\u001b[0;32m    576\u001b[0m     \u001b[39mif\u001b[39;00m \u001b[39misinstance\u001b[39m(val, Component):\n\u001b[0;32m    577\u001b[0m         \u001b[39m#\u001b[39;00m\n\u001b[0;32m    578\u001b[0m         \u001b[39m# Pyomo components are added with the add_component method.\u001b[39;00m\n\u001b[0;32m    579\u001b[0m         \u001b[39m#\u001b[39;00m\n\u001b[1;32m--> 580\u001b[0m         \u001b[39mself\u001b[39;49m\u001b[39m.\u001b[39;49madd_component(name, val)\n\u001b[0;32m    581\u001b[0m     \u001b[39melse\u001b[39;00m:\n\u001b[0;32m    582\u001b[0m         \u001b[39m#\u001b[39;00m\n\u001b[0;32m    583\u001b[0m         \u001b[39m# Other Python objects are added with the standard __setattr__\u001b[39;00m\n\u001b[0;32m    584\u001b[0m         \u001b[39m# method.\u001b[39;00m\n\u001b[0;32m    585\u001b[0m         \u001b[39m#\u001b[39;00m\n\u001b[0;32m    586\u001b[0m         \u001b[39msuper\u001b[39m(_BlockData, \u001b[39mself\u001b[39m)\u001b[39m.\u001b[39m\u001b[39m__setattr__\u001b[39m(name, val)\n",
            "File \u001b[1;32mc:\\Users\\Tyler\\anaconda3\\envs\\idaes-pse-tyler\\Lib\\site-packages\\pyomo\\core\\base\\block.py:1185\u001b[0m, in \u001b[0;36m_BlockData.add_component\u001b[1;34m(self, name, val)\u001b[0m\n\u001b[0;32m   1177\u001b[0m     logger\u001b[39m.\u001b[39mdebug(\n\u001b[0;32m   1178\u001b[0m         \u001b[39m\"\u001b[39m\u001b[39mConstructing \u001b[39m\u001b[39m%s\u001b[39;00m\u001b[39m \u001b[39m\u001b[39m'\u001b[39m\u001b[39m%s\u001b[39;00m\u001b[39m'\u001b[39m\u001b[39m on \u001b[39m\u001b[39m%s\u001b[39;00m\u001b[39m from data=\u001b[39m\u001b[39m%s\u001b[39;00m\u001b[39m\"\u001b[39m,\n\u001b[0;32m   1179\u001b[0m         val\u001b[39m.\u001b[39m\u001b[39m__class__\u001b[39m\u001b[39m.\u001b[39m\u001b[39m__name__\u001b[39m,\n\u001b[1;32m   (...)\u001b[0m\n\u001b[0;32m   1182\u001b[0m         \u001b[39mstr\u001b[39m(data),\n\u001b[0;32m   1183\u001b[0m     )\n\u001b[0;32m   1184\u001b[0m \u001b[39mtry\u001b[39;00m:\n\u001b[1;32m-> 1185\u001b[0m     val\u001b[39m.\u001b[39;49mconstruct(data)\n\u001b[0;32m   1186\u001b[0m \u001b[39mexcept\u001b[39;00m:\n\u001b[0;32m   1187\u001b[0m     err \u001b[39m=\u001b[39m sys\u001b[39m.\u001b[39mexc_info()[\u001b[39m1\u001b[39m]\n",
            "File \u001b[1;32mc:\\Users\\Tyler\\anaconda3\\envs\\idaes-pse-tyler\\Lib\\site-packages\\pyomo\\core\\base\\block.py:2191\u001b[0m, in \u001b[0;36mBlock.construct\u001b[1;34m(self, data)\u001b[0m\n\u001b[0;32m   2189\u001b[0m                     obj\u001b[39m.\u001b[39mconstruct(data\u001b[39m.\u001b[39mget(name, \u001b[39mNone\u001b[39;00m))\n\u001b[0;32m   2190\u001b[0m         \u001b[39m# Trigger the (normal) initialization of the block\u001b[39;00m\n\u001b[1;32m-> 2191\u001b[0m         \u001b[39mself\u001b[39;49m\u001b[39m.\u001b[39;49m_getitem_when_not_present(_idx)\n\u001b[0;32m   2192\u001b[0m \u001b[39mfinally\u001b[39;00m:\n\u001b[0;32m   2193\u001b[0m     \u001b[39m# We must allow that id(self) may no longer be in\u001b[39;00m\n\u001b[0;32m   2194\u001b[0m     \u001b[39m# _BlockConstruction.data, as _getitem_when_not_present will\u001b[39;00m\n\u001b[0;32m   2195\u001b[0m     \u001b[39m# have already removed the entry for scalar blocks (as the\u001b[39;00m\n\u001b[0;32m   2196\u001b[0m     \u001b[39m# BlockData and the Block component are the same object)\u001b[39;00m\n\u001b[0;32m   2197\u001b[0m     \u001b[39mif\u001b[39;00m data \u001b[39mis\u001b[39;00m \u001b[39mnot\u001b[39;00m \u001b[39mNone\u001b[39;00m:\n",
            "File \u001b[1;32mc:\\Users\\Tyler\\anaconda3\\envs\\idaes-pse-tyler\\Lib\\site-packages\\pyomo\\core\\base\\block.py:2111\u001b[0m, in \u001b[0;36mBlock._getitem_when_not_present\u001b[1;34m(self, idx)\u001b[0m\n\u001b[0;32m   2108\u001b[0m     data \u001b[39m=\u001b[39m \u001b[39mNone\u001b[39;00m\n\u001b[0;32m   2110\u001b[0m \u001b[39mtry\u001b[39;00m:\n\u001b[1;32m-> 2111\u001b[0m     obj \u001b[39m=\u001b[39m \u001b[39mself\u001b[39;49m\u001b[39m.\u001b[39;49m_rule(_block, idx)\n\u001b[0;32m   2112\u001b[0m     \u001b[39m# If the user returns a block, transfer over everything\u001b[39;00m\n\u001b[0;32m   2113\u001b[0m     \u001b[39m# they defined into the empty one we created.  We do\u001b[39;00m\n\u001b[0;32m   2114\u001b[0m     \u001b[39m# this inside the try block so that any abstract\u001b[39;00m\n\u001b[0;32m   2115\u001b[0m     \u001b[39m# components declared by the rule have the opportunity\u001b[39;00m\n\u001b[0;32m   2116\u001b[0m     \u001b[39m# to be initialized with data from\u001b[39;00m\n\u001b[0;32m   2117\u001b[0m     \u001b[39m# _BlockConstruction.data as they are transferred over.\u001b[39;00m\n\u001b[0;32m   2118\u001b[0m     \u001b[39mif\u001b[39;00m obj \u001b[39mis\u001b[39;00m \u001b[39mnot\u001b[39;00m _block \u001b[39mand\u001b[39;00m \u001b[39misinstance\u001b[39m(obj, _BlockData):\n",
            "File \u001b[1;32mc:\\Users\\Tyler\\anaconda3\\envs\\idaes-pse-tyler\\Lib\\site-packages\\pyomo\\core\\base\\initializer.py:313\u001b[0m, in \u001b[0;36mIndexedCallInitializer.__call__\u001b[1;34m(self, parent, idx)\u001b[0m\n\u001b[0;32m    311\u001b[0m     \u001b[39mreturn\u001b[39;00m \u001b[39mself\u001b[39m\u001b[39m.\u001b[39m_fcn(parent, \u001b[39m*\u001b[39midx)\n\u001b[0;32m    312\u001b[0m \u001b[39melse\u001b[39;00m:\n\u001b[1;32m--> 313\u001b[0m     \u001b[39mreturn\u001b[39;00m \u001b[39mself\u001b[39;49m\u001b[39m.\u001b[39;49m_fcn(parent, idx)\n",
            "File \u001b[1;32mc:\\Users\\Tyler\\anaconda3\\envs\\idaes-pse-tyler\\Lib\\site-packages\\idaes\\core\\base\\process_block.py:41\u001b[0m, in \u001b[0;36m_rule_default\u001b[1;34m(b, *args)\u001b[0m\n\u001b[0;32m     35\u001b[0m \u001b[39m\u001b[39m\u001b[39m\"\"\"\u001b[39;00m\n\u001b[0;32m     36\u001b[0m \u001b[39mDefault rule for ProcessBlock, which calls build(). A different rule can\u001b[39;00m\n\u001b[0;32m     37\u001b[0m \u001b[39mbe specified to add additional build steps, or to not call build at all\u001b[39;00m\n\u001b[0;32m     38\u001b[0m \u001b[39musing the normal rule argument to ProcessBlock init.\u001b[39;00m\n\u001b[0;32m     39\u001b[0m \u001b[39m\"\"\"\u001b[39;00m\n\u001b[0;32m     40\u001b[0m \u001b[39mtry\u001b[39;00m:\n\u001b[1;32m---> 41\u001b[0m     b\u001b[39m.\u001b[39;49mbuild()\n\u001b[0;32m     42\u001b[0m \u001b[39mexcept\u001b[39;00m \u001b[39mException\u001b[39;00m:\n\u001b[0;32m     43\u001b[0m     logging\u001b[39m.\u001b[39mgetLogger(\u001b[39m__name__\u001b[39m)\u001b[39m.\u001b[39mexception(\u001b[39mf\u001b[39m\u001b[39m\"\u001b[39m\u001b[39mFailure in build: \u001b[39m\u001b[39m{\u001b[39;00mb\u001b[39m}\u001b[39;00m\u001b[39m\"\u001b[39m)\n",
            "File \u001b[1;32mc:\\Users\\Tyler\\anaconda3\\envs\\idaes-pse-tyler\\Lib\\site-packages\\idaes\\models_extra\\power_generation\\unit_models\\helm\\compressor.py:97\u001b[0m, in \u001b[0;36mHelmIsentropicCompressorData.build\u001b[1;34m(self)\u001b[0m\n\u001b[0;32m     92\u001b[0m \u001b[39mdef\u001b[39;00m \u001b[39mbuild\u001b[39m(\u001b[39mself\u001b[39m):\n\u001b[0;32m     93\u001b[0m \u001b[39m    \u001b[39m\u001b[39m\"\"\"\u001b[39;00m\n\u001b[0;32m     94\u001b[0m \u001b[39m    Add model equations to the unit model.  This is called by a default block\u001b[39;00m\n\u001b[0;32m     95\u001b[0m \u001b[39m    construnction rule when the unit model is created.\u001b[39;00m\n\u001b[0;32m     96\u001b[0m \u001b[39m    \"\"\"\u001b[39;00m\n\u001b[1;32m---> 97\u001b[0m     \u001b[39msuper\u001b[39;49m()\u001b[39m.\u001b[39;49mbuild()  \u001b[39m# Basic unit model build/read config\u001b[39;00m\n\u001b[0;32m     98\u001b[0m     config \u001b[39m=\u001b[39m \u001b[39mself\u001b[39m\u001b[39m.\u001b[39mconfig  \u001b[39m# shorter config pointer\u001b[39;00m\n\u001b[0;32m    100\u001b[0m     \u001b[39m# The thermodynamic expression writer object, te, writes expressions\u001b[39;00m\n\u001b[0;32m    101\u001b[0m     \u001b[39m# including external function calls to calculate thermodynamic quantities\u001b[39;00m\n\u001b[0;32m    102\u001b[0m     \u001b[39m# from a set of state variables.\u001b[39;00m\n",
            "File \u001b[1;32mc:\\Users\\Tyler\\anaconda3\\envs\\idaes-pse-tyler\\Lib\\site-packages\\idaes\\models_extra\\power_generation\\unit_models\\balance.py:238\u001b[0m, in \u001b[0;36mBalanceBlockData.build\u001b[1;34m(self)\u001b[0m\n\u001b[0;32m    236\u001b[0m \u001b[39msuper\u001b[39m()\u001b[39m.\u001b[39mbuild()\n\u001b[0;32m    237\u001b[0m \u001b[39m# Add Control Volume\u001b[39;00m\n\u001b[1;32m--> 238\u001b[0m make_balance_control_volume(\u001b[39mself\u001b[39;49m, \u001b[39m\"\u001b[39;49m\u001b[39mcontrol_volume\u001b[39;49m\u001b[39m\"\u001b[39;49m, \u001b[39mself\u001b[39;49m\u001b[39m.\u001b[39;49mconfig)\n\u001b[0;32m    239\u001b[0m \u001b[39m# Add Ports\u001b[39;00m\n\u001b[0;32m    240\u001b[0m \u001b[39mself\u001b[39m\u001b[39m.\u001b[39madd_inlet_port()\n",
            "File \u001b[1;32mc:\\Users\\Tyler\\anaconda3\\envs\\idaes-pse-tyler\\Lib\\site-packages\\idaes\\models_extra\\power_generation\\unit_models\\balance.py:72\u001b[0m, in \u001b[0;36mmake_balance_control_volume\u001b[1;34m(o, name, config, dynamic, has_holdup)\u001b[0m\n\u001b[0;32m     70\u001b[0m \u001b[39mif\u001b[39;00m has_holdup:\n\u001b[0;32m     71\u001b[0m     control_volume\u001b[39m.\u001b[39madd_geometry()\n\u001b[1;32m---> 72\u001b[0m control_volume\u001b[39m.\u001b[39;49madd_state_blocks(has_phase_equilibrium\u001b[39m=\u001b[39;49mconfig\u001b[39m.\u001b[39;49mhas_phase_equilibrium)\n\u001b[0;32m     73\u001b[0m \u001b[39m# Add material balance\u001b[39;00m\n\u001b[0;32m     74\u001b[0m control_volume\u001b[39m.\u001b[39madd_material_balances(\n\u001b[0;32m     75\u001b[0m     balance_type\u001b[39m=\u001b[39mconfig\u001b[39m.\u001b[39mmaterial_balance_type,\n\u001b[0;32m     76\u001b[0m     has_phase_equilibrium\u001b[39m=\u001b[39mconfig\u001b[39m.\u001b[39mhas_phase_equilibrium,\n\u001b[0;32m     77\u001b[0m )\n",
            "File \u001b[1;32mc:\\Users\\Tyler\\anaconda3\\envs\\idaes-pse-tyler\\Lib\\site-packages\\idaes\\core\\base\\control_volume0d.py:138\u001b[0m, in \u001b[0;36mControlVolume0DBlockData.add_state_blocks\u001b[1;34m(self, information_flow, has_phase_equilibrium)\u001b[0m\n\u001b[0;32m    131\u001b[0m \u001b[39melse\u001b[39;00m:\n\u001b[0;32m    132\u001b[0m     \u001b[39mraise\u001b[39;00m ConfigurationError(\n\u001b[0;32m    133\u001b[0m         \u001b[39m\"\u001b[39m\u001b[39m{}\u001b[39;00m\u001b[39m invalid value for information_flow argument. \u001b[39m\u001b[39m\"\u001b[39m\n\u001b[0;32m    134\u001b[0m         \u001b[39m\"\u001b[39m\u001b[39mValid values are FlowDirection.forward and \u001b[39m\u001b[39m\"\u001b[39m\n\u001b[0;32m    135\u001b[0m         \u001b[39m\"\u001b[39m\u001b[39mFlowDirection.backward\u001b[39m\u001b[39m\"\u001b[39m\u001b[39m.\u001b[39mformat(\u001b[39mself\u001b[39m\u001b[39m.\u001b[39mname)\n\u001b[0;32m    136\u001b[0m     )\n\u001b[1;32m--> 138\u001b[0m \u001b[39mself\u001b[39;49m\u001b[39m.\u001b[39;49mproperties_in \u001b[39m=\u001b[39m \u001b[39mself\u001b[39m\u001b[39m.\u001b[39mconfig\u001b[39m.\u001b[39mproperty_package\u001b[39m.\u001b[39mbuild_state_block(\n\u001b[0;32m    139\u001b[0m     \u001b[39mself\u001b[39m\u001b[39m.\u001b[39mflowsheet()\u001b[39m.\u001b[39mtime, doc\u001b[39m=\u001b[39m\u001b[39m\"\u001b[39m\u001b[39mMaterial properties at inlet\u001b[39m\u001b[39m\"\u001b[39m, \u001b[39m*\u001b[39m\u001b[39m*\u001b[39mtmp_dict\n\u001b[0;32m    140\u001b[0m )\n\u001b[0;32m    142\u001b[0m \u001b[39m# Reverse defined_state\u001b[39;00m\n\u001b[0;32m    143\u001b[0m tmp_dict_2 \u001b[39m=\u001b[39m \u001b[39mdict\u001b[39m(\u001b[39m*\u001b[39m\u001b[39m*\u001b[39mtmp_dict)\n",
            "File \u001b[1;32mc:\\Users\\Tyler\\anaconda3\\envs\\idaes-pse-tyler\\Lib\\site-packages\\pyomo\\core\\base\\block.py:580\u001b[0m, in \u001b[0;36m_BlockData.__setattr__\u001b[1;34m(self, name, val)\u001b[0m\n\u001b[0;32m    575\u001b[0m \u001b[39mif\u001b[39;00m name \u001b[39mnot\u001b[39;00m \u001b[39min\u001b[39;00m \u001b[39mself\u001b[39m\u001b[39m.\u001b[39m\u001b[39m__dict__\u001b[39m:\n\u001b[0;32m    576\u001b[0m     \u001b[39mif\u001b[39;00m \u001b[39misinstance\u001b[39m(val, Component):\n\u001b[0;32m    577\u001b[0m         \u001b[39m#\u001b[39;00m\n\u001b[0;32m    578\u001b[0m         \u001b[39m# Pyomo components are added with the add_component method.\u001b[39;00m\n\u001b[0;32m    579\u001b[0m         \u001b[39m#\u001b[39;00m\n\u001b[1;32m--> 580\u001b[0m         \u001b[39mself\u001b[39;49m\u001b[39m.\u001b[39;49madd_component(name, val)\n\u001b[0;32m    581\u001b[0m     \u001b[39melse\u001b[39;00m:\n\u001b[0;32m    582\u001b[0m         \u001b[39m#\u001b[39;00m\n\u001b[0;32m    583\u001b[0m         \u001b[39m# Other Python objects are added with the standard __setattr__\u001b[39;00m\n\u001b[0;32m    584\u001b[0m         \u001b[39m# method.\u001b[39;00m\n\u001b[0;32m    585\u001b[0m         \u001b[39m#\u001b[39;00m\n\u001b[0;32m    586\u001b[0m         \u001b[39msuper\u001b[39m(_BlockData, \u001b[39mself\u001b[39m)\u001b[39m.\u001b[39m\u001b[39m__setattr__\u001b[39m(name, val)\n",
            "File \u001b[1;32mc:\\Users\\Tyler\\anaconda3\\envs\\idaes-pse-tyler\\Lib\\site-packages\\pyomo\\core\\base\\block.py:1185\u001b[0m, in \u001b[0;36m_BlockData.add_component\u001b[1;34m(self, name, val)\u001b[0m\n\u001b[0;32m   1177\u001b[0m     logger\u001b[39m.\u001b[39mdebug(\n\u001b[0;32m   1178\u001b[0m         \u001b[39m\"\u001b[39m\u001b[39mConstructing \u001b[39m\u001b[39m%s\u001b[39;00m\u001b[39m \u001b[39m\u001b[39m'\u001b[39m\u001b[39m%s\u001b[39;00m\u001b[39m'\u001b[39m\u001b[39m on \u001b[39m\u001b[39m%s\u001b[39;00m\u001b[39m from data=\u001b[39m\u001b[39m%s\u001b[39;00m\u001b[39m\"\u001b[39m,\n\u001b[0;32m   1179\u001b[0m         val\u001b[39m.\u001b[39m\u001b[39m__class__\u001b[39m\u001b[39m.\u001b[39m\u001b[39m__name__\u001b[39m,\n\u001b[1;32m   (...)\u001b[0m\n\u001b[0;32m   1182\u001b[0m         \u001b[39mstr\u001b[39m(data),\n\u001b[0;32m   1183\u001b[0m     )\n\u001b[0;32m   1184\u001b[0m \u001b[39mtry\u001b[39;00m:\n\u001b[1;32m-> 1185\u001b[0m     val\u001b[39m.\u001b[39;49mconstruct(data)\n\u001b[0;32m   1186\u001b[0m \u001b[39mexcept\u001b[39;00m:\n\u001b[0;32m   1187\u001b[0m     err \u001b[39m=\u001b[39m sys\u001b[39m.\u001b[39mexc_info()[\u001b[39m1\u001b[39m]\n",
            "File \u001b[1;32mc:\\Users\\Tyler\\anaconda3\\envs\\idaes-pse-tyler\\Lib\\site-packages\\pyomo\\core\\base\\block.py:2167\u001b[0m, in \u001b[0;36mBlock.construct\u001b[1;34m(self, data)\u001b[0m\n\u001b[0;32m   2162\u001b[0m     \u001b[39mif\u001b[39;00m \u001b[39mself\u001b[39m\u001b[39m.\u001b[39mindex_set()\u001b[39m.\u001b[39misfinite() \u001b[39mand\u001b[39;00m (\n\u001b[0;32m   2163\u001b[0m         \u001b[39mself\u001b[39m\u001b[39m.\u001b[39m_dense \u001b[39mor\u001b[39;00m \u001b[39mself\u001b[39m\u001b[39m.\u001b[39m_rule \u001b[39mis\u001b[39;00m \u001b[39mnot\u001b[39;00m \u001b[39mNone\u001b[39;00m\n\u001b[0;32m   2164\u001b[0m     ):\n\u001b[0;32m   2165\u001b[0m         \u001b[39mfor\u001b[39;00m _idx \u001b[39min\u001b[39;00m \u001b[39mself\u001b[39m\u001b[39m.\u001b[39mindex_set():\n\u001b[0;32m   2166\u001b[0m             \u001b[39m# Trigger population & call the rule\u001b[39;00m\n\u001b[1;32m-> 2167\u001b[0m             \u001b[39mself\u001b[39;49m\u001b[39m.\u001b[39;49m_getitem_when_not_present(_idx)\n\u001b[0;32m   2168\u001b[0m \u001b[39melse\u001b[39;00m:\n\u001b[0;32m   2169\u001b[0m     \u001b[39m# We must check that any pre-existing components are\u001b[39;00m\n\u001b[0;32m   2170\u001b[0m     \u001b[39m# constructed.  This catches the case where someone is\u001b[39;00m\n\u001b[0;32m   2171\u001b[0m     \u001b[39m# building a Concrete model by building (potentially\u001b[39;00m\n\u001b[0;32m   2172\u001b[0m     \u001b[39m# pseudo-abstract) sub-blocks and then adding them to a\u001b[39;00m\n\u001b[0;32m   2173\u001b[0m     \u001b[39m# Concrete model block.\u001b[39;00m\n\u001b[0;32m   2174\u001b[0m     _idx \u001b[39m=\u001b[39m \u001b[39mnext\u001b[39m(\u001b[39miter\u001b[39m(UnindexedComponent_set))\n",
            "File \u001b[1;32mc:\\Users\\Tyler\\anaconda3\\envs\\idaes-pse-tyler\\Lib\\site-packages\\pyomo\\core\\base\\block.py:2111\u001b[0m, in \u001b[0;36mBlock._getitem_when_not_present\u001b[1;34m(self, idx)\u001b[0m\n\u001b[0;32m   2108\u001b[0m     data \u001b[39m=\u001b[39m \u001b[39mNone\u001b[39;00m\n\u001b[0;32m   2110\u001b[0m \u001b[39mtry\u001b[39;00m:\n\u001b[1;32m-> 2111\u001b[0m     obj \u001b[39m=\u001b[39m \u001b[39mself\u001b[39;49m\u001b[39m.\u001b[39;49m_rule(_block, idx)\n\u001b[0;32m   2112\u001b[0m     \u001b[39m# If the user returns a block, transfer over everything\u001b[39;00m\n\u001b[0;32m   2113\u001b[0m     \u001b[39m# they defined into the empty one we created.  We do\u001b[39;00m\n\u001b[0;32m   2114\u001b[0m     \u001b[39m# this inside the try block so that any abstract\u001b[39;00m\n\u001b[0;32m   2115\u001b[0m     \u001b[39m# components declared by the rule have the opportunity\u001b[39;00m\n\u001b[0;32m   2116\u001b[0m     \u001b[39m# to be initialized with data from\u001b[39;00m\n\u001b[0;32m   2117\u001b[0m     \u001b[39m# _BlockConstruction.data as they are transferred over.\u001b[39;00m\n\u001b[0;32m   2118\u001b[0m     \u001b[39mif\u001b[39;00m obj \u001b[39mis\u001b[39;00m \u001b[39mnot\u001b[39;00m _block \u001b[39mand\u001b[39;00m \u001b[39misinstance\u001b[39m(obj, _BlockData):\n",
            "File \u001b[1;32mc:\\Users\\Tyler\\anaconda3\\envs\\idaes-pse-tyler\\Lib\\site-packages\\pyomo\\core\\base\\initializer.py:313\u001b[0m, in \u001b[0;36mIndexedCallInitializer.__call__\u001b[1;34m(self, parent, idx)\u001b[0m\n\u001b[0;32m    311\u001b[0m     \u001b[39mreturn\u001b[39;00m \u001b[39mself\u001b[39m\u001b[39m.\u001b[39m_fcn(parent, \u001b[39m*\u001b[39midx)\n\u001b[0;32m    312\u001b[0m \u001b[39melse\u001b[39;00m:\n\u001b[1;32m--> 313\u001b[0m     \u001b[39mreturn\u001b[39;00m \u001b[39mself\u001b[39;49m\u001b[39m.\u001b[39;49m_fcn(parent, idx)\n",
            "File \u001b[1;32mc:\\Users\\Tyler\\anaconda3\\envs\\idaes-pse-tyler\\Lib\\site-packages\\idaes\\core\\base\\process_block.py:41\u001b[0m, in \u001b[0;36m_rule_default\u001b[1;34m(b, *args)\u001b[0m\n\u001b[0;32m     35\u001b[0m \u001b[39m\u001b[39m\u001b[39m\"\"\"\u001b[39;00m\n\u001b[0;32m     36\u001b[0m \u001b[39mDefault rule for ProcessBlock, which calls build(). A different rule can\u001b[39;00m\n\u001b[0;32m     37\u001b[0m \u001b[39mbe specified to add additional build steps, or to not call build at all\u001b[39;00m\n\u001b[0;32m     38\u001b[0m \u001b[39musing the normal rule argument to ProcessBlock init.\u001b[39;00m\n\u001b[0;32m     39\u001b[0m \u001b[39m\"\"\"\u001b[39;00m\n\u001b[0;32m     40\u001b[0m \u001b[39mtry\u001b[39;00m:\n\u001b[1;32m---> 41\u001b[0m     b\u001b[39m.\u001b[39;49mbuild()\n\u001b[0;32m     42\u001b[0m \u001b[39mexcept\u001b[39;00m \u001b[39mException\u001b[39;00m:\n\u001b[0;32m     43\u001b[0m     logging\u001b[39m.\u001b[39mgetLogger(\u001b[39m__name__\u001b[39m)\u001b[39m.\u001b[39mexception(\u001b[39mf\u001b[39m\u001b[39m\"\u001b[39m\u001b[39mFailure in build: \u001b[39m\u001b[39m{\u001b[39;00mb\u001b[39m}\u001b[39;00m\u001b[39m\"\u001b[39m)\n",
            "File \u001b[1;32mc:\\Users\\Tyler\\anaconda3\\envs\\idaes-pse-tyler\\Lib\\site-packages\\idaes\\models\\properties\\general_helmholtz\\helmholtz_state.py:600\u001b[0m, in \u001b[0;36mHelmholtzStateBlockData.build\u001b[1;34m(self, *args)\u001b[0m\n\u001b[0;32m    598\u001b[0m params \u001b[39m=\u001b[39m \u001b[39mself\u001b[39m\u001b[39m.\u001b[39mconfig\u001b[39m.\u001b[39mparameters\n\u001b[0;32m    599\u001b[0m \u001b[39m# Check if the library is available, and add external functions.\u001b[39;00m\n\u001b[1;32m--> 600\u001b[0m add_helmholtz_external_functions(\u001b[39mself\u001b[39;49m)\n\u001b[0;32m    601\u001b[0m cmp \u001b[39m=\u001b[39m params\u001b[39m.\u001b[39mpure_component\n\u001b[0;32m    602\u001b[0m \u001b[39m# Which state vars to use\u001b[39;00m\n",
            "File \u001b[1;32mc:\\Users\\Tyler\\anaconda3\\envs\\idaes-pse-tyler\\Lib\\site-packages\\idaes\\models\\properties\\general_helmholtz\\helmholtz_functions.py:151\u001b[0m, in \u001b[0;36madd_helmholtz_external_functions\u001b[1;34m(blk, names)\u001b[0m\n\u001b[0;32m    146\u001b[0m     \u001b[39mcontinue\u001b[39;00m\n\u001b[0;32m    147\u001b[0m fdict \u001b[39m=\u001b[39m _external_function_map[name]\n\u001b[0;32m    148\u001b[0m \u001b[39msetattr\u001b[39m(\n\u001b[0;32m    149\u001b[0m     blk,\n\u001b[0;32m    150\u001b[0m     name,\n\u001b[1;32m--> 151\u001b[0m     pyo\u001b[39m.\u001b[39;49mExternalFunction(\n\u001b[0;32m    152\u001b[0m         library\u001b[39m=\u001b[39;49m_flib,\n\u001b[0;32m    153\u001b[0m         function\u001b[39m=\u001b[39;49mfdict[\u001b[39m\"\u001b[39;49m\u001b[39mfname\u001b[39;49m\u001b[39m\"\u001b[39;49m],\n\u001b[0;32m    154\u001b[0m         units\u001b[39m=\u001b[39;49mfdict[\u001b[39m\"\u001b[39;49m\u001b[39munits\u001b[39;49m\u001b[39m\"\u001b[39;49m],\n\u001b[0;32m    155\u001b[0m         arg_units\u001b[39m=\u001b[39;49mfdict[\u001b[39m\"\u001b[39;49m\u001b[39marg_units\u001b[39;49m\u001b[39m\"\u001b[39;49m],\n\u001b[0;32m    156\u001b[0m         doc\u001b[39m=\u001b[39;49mfdict\u001b[39m.\u001b[39;49mget(\u001b[39m\"\u001b[39;49m\u001b[39mdoc\u001b[39;49m\u001b[39m\"\u001b[39;49m, \u001b[39mNone\u001b[39;49;00m),\n\u001b[0;32m    157\u001b[0m     ),\n\u001b[0;32m    158\u001b[0m )\n",
            "File \u001b[1;32mc:\\Users\\Tyler\\anaconda3\\envs\\idaes-pse-tyler\\Lib\\site-packages\\pyomo\\core\\base\\external.py:357\u001b[0m, in \u001b[0;36mAMPLExternalFunction.__init__\u001b[1;34m(self, *args, **kwargs)\u001b[0m\n\u001b[0;32m    354\u001b[0m \u001b[39m# Convert the specified library name to an absolute path, and\u001b[39;00m\n\u001b[0;32m    355\u001b[0m \u001b[39m# warn the user if we couldn't find it\u001b[39;00m\n\u001b[0;32m    356\u001b[0m \u001b[39mif\u001b[39;00m \u001b[39mself\u001b[39m\u001b[39m.\u001b[39m_library \u001b[39mis\u001b[39;00m \u001b[39mnot\u001b[39;00m \u001b[39mNone\u001b[39;00m:\n\u001b[1;32m--> 357\u001b[0m     _lib \u001b[39m=\u001b[39m find_library(\u001b[39mself\u001b[39;49m\u001b[39m.\u001b[39;49m_library)\n\u001b[0;32m    358\u001b[0m     \u001b[39mif\u001b[39;00m _lib \u001b[39mis\u001b[39;00m \u001b[39mnot\u001b[39;00m \u001b[39mNone\u001b[39;00m:\n\u001b[0;32m    359\u001b[0m         \u001b[39mself\u001b[39m\u001b[39m.\u001b[39m_library \u001b[39m=\u001b[39m _lib\n",
            "File \u001b[1;32mc:\\Users\\Tyler\\anaconda3\\envs\\idaes-pse-tyler\\Lib\\site-packages\\pyomo\\common\\fileutils.py:366\u001b[0m, in \u001b[0;36mfind_library\u001b[1;34m(libname, cwd, include_PATH, pathlist)\u001b[0m\n\u001b[0;32m    364\u001b[0m ext \u001b[39m=\u001b[39m _libExt\u001b[39m.\u001b[39mget(_system(), \u001b[39mNone\u001b[39;00m)\n\u001b[0;32m    365\u001b[0m \u001b[39m# Search 1: original filename (with extensions) in our paths\u001b[39;00m\n\u001b[1;32m--> 366\u001b[0m lib \u001b[39m=\u001b[39m find_file(libname, cwd\u001b[39m=\u001b[39;49mcwd, ext\u001b[39m=\u001b[39;49mext, pathlist\u001b[39m=\u001b[39;49mpathlist)\n\u001b[0;32m    367\u001b[0m \u001b[39mif\u001b[39;00m lib \u001b[39mis\u001b[39;00m \u001b[39mNone\u001b[39;00m \u001b[39mand\u001b[39;00m \u001b[39mnot\u001b[39;00m libname\u001b[39m.\u001b[39mstartswith(\u001b[39m'\u001b[39m\u001b[39mlib\u001b[39m\u001b[39m'\u001b[39m):\n\u001b[0;32m    368\u001b[0m     \u001b[39m# Search 2: prepend 'lib' (with extensions) in our paths\u001b[39;00m\n\u001b[0;32m    369\u001b[0m     lib \u001b[39m=\u001b[39m find_file(\u001b[39m'\u001b[39m\u001b[39mlib\u001b[39m\u001b[39m'\u001b[39m \u001b[39m+\u001b[39m libname, cwd\u001b[39m=\u001b[39mcwd, ext\u001b[39m=\u001b[39mext, pathlist\u001b[39m=\u001b[39mpathlist)\n",
            "File \u001b[1;32mc:\\Users\\Tyler\\anaconda3\\envs\\idaes-pse-tyler\\Lib\\site-packages\\pyomo\\common\\fileutils.py:223\u001b[0m, in \u001b[0;36mfind_file\u001b[1;34m(filename, cwd, mode, ext, pathlist, allow_pathlist_deep_references)\u001b[0m\n\u001b[0;32m    170\u001b[0m \u001b[39mdef\u001b[39;00m \u001b[39mfind_file\u001b[39m(\n\u001b[0;32m    171\u001b[0m     filename,\n\u001b[0;32m    172\u001b[0m     cwd\u001b[39m=\u001b[39m\u001b[39mTrue\u001b[39;00m,\n\u001b[1;32m   (...)\u001b[0m\n\u001b[0;32m    176\u001b[0m     allow_pathlist_deep_references\u001b[39m=\u001b[39m\u001b[39mTrue\u001b[39;00m,\n\u001b[0;32m    177\u001b[0m ):\n\u001b[0;32m    178\u001b[0m \u001b[39m    \u001b[39m\u001b[39m\"\"\"Locate a file, given a set of search parameters\u001b[39;00m\n\u001b[0;32m    179\u001b[0m \n\u001b[0;32m    180\u001b[0m \u001b[39m    Parameters\u001b[39;00m\n\u001b[1;32m   (...)\u001b[0m\n\u001b[0;32m    221\u001b[0m \n\u001b[0;32m    222\u001b[0m \u001b[39m    \"\"\"\u001b[39;00m\n\u001b[1;32m--> 223\u001b[0m     \u001b[39mreturn\u001b[39;00m find_path(\n\u001b[0;32m    224\u001b[0m         filename,\n\u001b[0;32m    225\u001b[0m         os\u001b[39m.\u001b[39;49mpath\u001b[39m.\u001b[39;49misfile,\n\u001b[0;32m    226\u001b[0m         cwd\u001b[39m=\u001b[39;49mcwd,\n\u001b[0;32m    227\u001b[0m         mode\u001b[39m=\u001b[39;49mmode,\n\u001b[0;32m    228\u001b[0m         ext\u001b[39m=\u001b[39;49mext,\n\u001b[0;32m    229\u001b[0m         pathlist\u001b[39m=\u001b[39;49mpathlist,\n\u001b[0;32m    230\u001b[0m         allow_pathlist_deep_references\u001b[39m=\u001b[39;49mallow_pathlist_deep_references,\n\u001b[0;32m    231\u001b[0m     )\n",
            "File \u001b[1;32mc:\\Users\\Tyler\\anaconda3\\envs\\idaes-pse-tyler\\Lib\\site-packages\\pyomo\\common\\fileutils.py:164\u001b[0m, in \u001b[0;36mfind_path\u001b[1;34m(name, validate, cwd, mode, ext, pathlist, allow_pathlist_deep_references)\u001b[0m\n\u001b[0;32m    162\u001b[0m \u001b[39mif\u001b[39;00m \u001b[39mnot\u001b[39;00m validate(test):\n\u001b[0;32m    163\u001b[0m     \u001b[39mcontinue\u001b[39;00m\n\u001b[1;32m--> 164\u001b[0m \u001b[39mif\u001b[39;00m mode \u001b[39mis\u001b[39;00m \u001b[39mnot\u001b[39;00m \u001b[39mNone\u001b[39;00m \u001b[39mand\u001b[39;00m \u001b[39mnot\u001b[39;00m os\u001b[39m.\u001b[39maccess(test, mode):\n\u001b[0;32m    165\u001b[0m     \u001b[39mcontinue\u001b[39;00m\n\u001b[0;32m    166\u001b[0m \u001b[39mreturn\u001b[39;00m os\u001b[39m.\u001b[39mpath\u001b[39m.\u001b[39mabspath(test)\n",
            "\u001b[1;31mKeyboardInterrupt\u001b[0m: "
          ]
        }
      ],
      "source": [
        "m = pyo.ConcreteModel()\n",
        "m.fs = ngcc.NgccFlowsheet(dynamic=False)\n",
        "#iscale.calculate_scaling_factors(m)\n",
        "\n",
        "\n",
        "\n",
        "# m.fs.initialize(\n",
        "#     load_from=\"ngcc_init.json.gz\",\n",
        "#     save_to=\"ngcc_init.json.gz\",\n",
        "# )\n",
        "# res = solver.solve(m, tee=True)\n",
        "print(pyo.value(m.fs.st.reboiler.control_volume.properties_in[0].flow_mol))"
      ]
    },
    {
      "attachments": {},
      "cell_type": "markdown",
      "metadata": {},
      "source": [
        "## Show PFDs with baseline results\n",
        "\n",
        "This displays PFDs in the notebook, and saves them to files.  The full NGCC model is too big to show well in a single PFD, so it is broken into the three main sections, gas turbine, heat recovery steam generator (HRSG), and steam turbine."
      ]
    },
    {
      "cell_type": "code",
      "execution_count": 6,
      "metadata": {},
      "outputs": [],
      "source": [
        "def display_pfd():\n",
        "    print(\"\\n\\nGas Turbine Section\\n\")\n",
        "    display(SVG(m.fs.gt.write_pfd()))\n",
        "    print(\"\\n\\nHRSG Section\\n\")\n",
        "    display(SVG(m.fs.hrsg.write_pfd()))\n",
        "    print(\"\\n\\nSteam Turbine Section\\n\")\n",
        "    display(SVG(m.fs.st.write_pfd()))\n",
        "\n",
        "\n",
        "display_pfd()\n",
        "\n",
        "m.fs.gt.write_pfd(fname=\"data_pfds/gt_baseline.svg\")\n",
        "m.fs.hrsg.write_pfd(fname=\"data_pfds/hrsg_baseline.svg\")\n",
        "m.fs.st.write_pfd(fname=\"data_pfds/st_baseline.svg\")"
      ]
    },
    {
      "attachments": {},
      "cell_type": "markdown",
      "metadata": {},
      "source": [
        "## Test key model outputs against NETL baseline"
      ]
    },
    {
      "cell_type": "code",
      "execution_count": 7,
      "metadata": {},
      "outputs": [],
      "source": [
        "# Assert results approximatly agree with baseline reoprt\n",
        "assert pyo.value(m.fs.net_power_mw[0]) == pytest.approx(646)\n",
        "assert pyo.value(m.fs.gross_power[0]) == pytest.approx(-690e6, rel=0.001)\n",
        "assert pyo.value(100 * m.fs.lhv_efficiency[0]) == pytest.approx(52.8, abs=0.1)\n",
        "assert pyo.value(\n",
        "    m.fs.total_variable_cost_rate[0] / m.fs.net_power_mw[0]\n",
        ") == pytest.approx(37.2799, rel=0.01)\n",
        "assert pyo.value(m.fs.fuel_cost_rate[0] / m.fs.net_power_mw[0]) == pytest.approx(\n",
        "    31.6462, rel=0.01\n",
        ")\n",
        "assert pyo.value(\n",
        "    m.fs.other_variable_cost_rate[0] / m.fs.net_power_mw[0]\n",
        ") == pytest.approx(5.63373, rel=0.01)\n",
        "assert pyo.value(m.fs.gt.gt_power[0]) == pytest.approx(-477e6, rel=0.001)"
      ]
    },
    {
      "cell_type": "code",
      "execution_count": 8,
      "metadata": {},
      "outputs": [],
      "source": [
        "from matplotlib import pyplot as plt\n",
        "\n",
        "\n",
        "variables = [\"net_power\", \"gross_power\", \"gt_power\"]\n",
        "netl_baseline = [646, 690, 477]\n",
        "idaes_prediction = [\n",
        "    pyo.value(m.fs.net_power_mw[0]),\n",
        "    -pyo.value(m.fs.gross_power[0]) * 1e-6,\n",
        "    -pyo.value(m.fs.gt.gt_power[0]) * 1e-6,\n",
        "]\n",
        "\n",
        "label_location = np.arange(len(variables))\n",
        "\n",
        "width = 0.4\n",
        "\n",
        "fig, ax = plt.subplots()\n",
        "netl_data = ax.bar(variables, netl_baseline, label=\"NETL Baseline\")\n",
        "idaes_sim = ax.bar(\n",
        "    label_location + (width / 2), idaes_prediction, width, label=\"IDAES Prediction\"\n",
        ")\n",
        "\n",
        "ax.set_ylabel(\"Power (MW)\")\n",
        "ax.set_xticks(label_location)\n",
        "ax.set_xticklabels(variables)\n",
        "ax.legend()"
      ]
    },
    {
      "attachments": {},
      "cell_type": "markdown",
      "metadata": {},
      "source": [
        "## Run turndown cases 5 MW interval\n",
        "\n",
        "Here we set the CO2 capture rate to 97% and set the specific reboiler duty to PZ advanced solvent system. The minimum power is 160 MW net, which corresponds to a bit under 25%.  This is roughly the minimum load for the NGCC modeled. Results are tabulated for tags in the tags_output tag group in a Pandas data frame. \n",
        "\n",
        "To run the series, change run_series to True.  Running the turndown series takes a while, unless previous saved results are available. "
      ]
    },
    {
      "cell_type": "code",
      "execution_count": 9,
      "metadata": {},
      "outputs": [],
      "source": [
        "run_series = False\n",
        "if run_series:\n",
        "    idaes.cfg.ipopt.options.tol = 1e-6\n",
        "    idaes.cfg.ipopt.options.max_iter = 50\n",
        "    solver = pyo.SolverFactory(\"ipopt\")\n",
        "\n",
        "    m.fs.cap_specific_reboiler_duty.fix(2.4e6)\n",
        "    m.fs.cap_fraction.fix(0.97)\n",
        "    powers = np.linspace(650, 160, int((650 - 160) / 5) + 1)\n",
        "    powers = list(powers)\n",
        "    powers.insert(1, 646)\n",
        "\n",
        "    df = pd.DataFrame(columns=m.fs.tags_output.table_heading())\n",
        "\n",
        "    for p in powers:\n",
        "        print(\"Simulation for net power = \", p)\n",
        "        fname = f\"data/ngcc_{int(p)}.json.gz\"\n",
        "        if os.path.exists(fname):\n",
        "            iutil.from_json(m, fname=fname, wts=iutil.StoreSpec(suffix=False))\n",
        "        else:\n",
        "            m.fs.net_power_mw.fix(p)\n",
        "            res = solver.solve(m, tee=False, symbolic_solver_labels=True)\n",
        "            print(pyo.value(m.fs.st.reboiler.control_volume.properties_in.flow_mol))\n",
        "            if not pyo.check_optimal_termination(res):\n",
        "                break\n",
        "            iutil.to_json(m, fname=fname)\n",
        "        df.loc[m.fs.tags_output[\"net_power\"].value] = m.fs.tags_output.table_row(\n",
        "            numeric=True\n",
        "        )\n",
        "        if abs(p - 650) < 0.1:\n",
        "            m.fs.gt.streams_dataframe().to_csv(\n",
        "                \"data_tabulated/ngcc_stream_650mw_gt.csv\"\n",
        "            )\n",
        "            m.fs.st.steam_streams_dataframe().to_csv(\n",
        "                \"data_tabulated/ngcc_stream_650mw_st.csv\"\n",
        "            )\n",
        "            m.fs.hrsg.steam_streams_dataframe().to_csv(\n",
        "                \"data_tabulated/ngcc_stream_650mw_hrsg_steam.csv\"\n",
        "            )\n",
        "            m.fs.hrsg.flue_gas_streams_dataframe().to_csv(\n",
        "                \"data_tabulated/ngcc_stream_650mw_hrsg_gas.csv\"\n",
        "            )\n",
        "    df.to_csv(\"data_tabulated/ngcc.csv\")\n",
        "\n",
        "    # Display the results from the run stored in a pandas dataframe\n",
        "    pd.set_option(\"display.max_rows\", None)\n",
        "    pd.set_option(\"display.max_columns\", None)\n",
        "    display(df)\n",
        "\n",
        "    # Plot results\n",
        "    plt.plot(df[\"net_power (MW)\"], df[\"lhv_efficiency (%)\"])\n",
        "    plt.grid()\n",
        "    plt.xlabel(\"Net Power (MW)\")\n",
        "    plt.ylabel(\"LHV Efficiency (%)\")\n",
        "    plt.title(\"Net Power vs. Efficiency\")\n",
        "    plt.show()"
      ]
    },
    {
      "cell_type": "code",
      "execution_count": null,
      "metadata": {},
      "outputs": [],
      "source": []
    }
  ],
  "metadata": {
    "kernelspec": {
      "display_name": "Python 3 (ipykernel)",
      "language": "python",
      "name": "python3"
    },
    "language_info": {
      "codemirror_mode": {
        "name": "ipython",
        "version": 3
      },
      "file_extension": ".py",
      "mimetype": "text/x-python",
      "name": "python",
      "nbconvert_exporter": "python",
      "pygments_lexer": "ipython3",
      "version": "3.11.3"
    }
  },
  "nbformat": 4,
  "nbformat_minor": 3
}
